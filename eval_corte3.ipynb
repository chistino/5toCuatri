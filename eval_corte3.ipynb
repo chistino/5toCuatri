{
 "cells": [
  {
   "cell_type": "markdown",
   "id": "b3f79c68",
   "metadata": {},
   "source": [
    "### Importamos librerias"
   ]
  },
  {
   "cell_type": "code",
   "execution_count": 1,
   "id": "d4c4bdb9",
   "metadata": {},
   "outputs": [],
   "source": [
    "import pandas as pd                                   #Dataframe\n",
    "from sklearn.svm import SVC                           #Support Vector Machines\n",
    "from sklearn.ensemble import RandomForestClassifier   #Random Forest \n",
    "from sklearn.linear_model import LogisticRegression   #Regresion Lineal\n",
    "from sklearn.model_selection import GridSearchCV      #Grid Search\n",
    "from sklearn.metrics import confusion_matrix          #Matriz de confusion\n",
    "import matplotlib.pyplot as plt                       #Graficas\n",
    "import seaborn as sns                                 #Graficas Estadisticas\n",
    "import warnings                                       #Advertencias\n",
    "warnings.simplefilter(\"ignore\")                       #Codigo para quitar advertencias"
   ]
  },
  {
   "cell_type": "markdown",
   "id": "5269ff45",
   "metadata": {},
   "source": [
    "### Se carga el dataset"
   ]
  },
  {
   "cell_type": "code",
   "execution_count": 3,
   "id": "ee0987a6",
   "metadata": {},
   "outputs": [
    {
     "data": {
      "text/html": [
       "<div>\n",
       "<style scoped>\n",
       "    .dataframe tbody tr th:only-of-type {\n",
       "        vertical-align: middle;\n",
       "    }\n",
       "\n",
       "    .dataframe tbody tr th {\n",
       "        vertical-align: top;\n",
       "    }\n",
       "\n",
       "    .dataframe thead th {\n",
       "        text-align: right;\n",
       "    }\n",
       "</style>\n",
       "<table border=\"1\" class=\"dataframe\">\n",
       "  <thead>\n",
       "    <tr style=\"text-align: right;\">\n",
       "      <th></th>\n",
       "      <th>Fecha</th>\n",
       "      <th>Operador</th>\n",
       "      <th>Presion Aire (PSI)</th>\n",
       "      <th>Presion Neumatica (PSI)</th>\n",
       "      <th>Corriente (Ampers)</th>\n",
       "      <th>Presion Cilindro Longitudinal (PSI)</th>\n",
       "      <th>Presion Cilindro Transversal (PSI)</th>\n",
       "      <th>Fallo Linea</th>\n",
       "      <th>Fallo Electrico</th>\n",
       "      <th>Fallo Suministro</th>\n",
       "      <th>Mantenimiento Correctivo</th>\n",
       "    </tr>\n",
       "  </thead>\n",
       "  <tbody>\n",
       "    <tr>\n",
       "      <th>0</th>\n",
       "      <td>2018-01-01</td>\n",
       "      <td>Cesar Contreras Martinez</td>\n",
       "      <td>298</td>\n",
       "      <td>315</td>\n",
       "      <td>153</td>\n",
       "      <td>139</td>\n",
       "      <td>302</td>\n",
       "      <td>0</td>\n",
       "      <td>0</td>\n",
       "      <td>0</td>\n",
       "      <td>0</td>\n",
       "    </tr>\n",
       "    <tr>\n",
       "      <th>1</th>\n",
       "      <td>2018-01-01</td>\n",
       "      <td>Claudio Perez Rodriguez</td>\n",
       "      <td>310</td>\n",
       "      <td>316</td>\n",
       "      <td>148</td>\n",
       "      <td>155</td>\n",
       "      <td>286</td>\n",
       "      <td>0</td>\n",
       "      <td>0</td>\n",
       "      <td>0</td>\n",
       "      <td>0</td>\n",
       "    </tr>\n",
       "    <tr>\n",
       "      <th>2</th>\n",
       "      <td>2018-01-02</td>\n",
       "      <td>Marco Adrian Gomez</td>\n",
       "      <td>313</td>\n",
       "      <td>290</td>\n",
       "      <td>163</td>\n",
       "      <td>168</td>\n",
       "      <td>291</td>\n",
       "      <td>0</td>\n",
       "      <td>0</td>\n",
       "      <td>0</td>\n",
       "      <td>0</td>\n",
       "    </tr>\n",
       "    <tr>\n",
       "      <th>3</th>\n",
       "      <td>2018-01-02</td>\n",
       "      <td>Omar Balderas Perez</td>\n",
       "      <td>292</td>\n",
       "      <td>303</td>\n",
       "      <td>189</td>\n",
       "      <td>156</td>\n",
       "      <td>312</td>\n",
       "      <td>0</td>\n",
       "      <td>0</td>\n",
       "      <td>0</td>\n",
       "      <td>0</td>\n",
       "    </tr>\n",
       "    <tr>\n",
       "      <th>4</th>\n",
       "      <td>2018-01-03</td>\n",
       "      <td>Gerardo Romero Alvarado</td>\n",
       "      <td>304</td>\n",
       "      <td>286</td>\n",
       "      <td>174</td>\n",
       "      <td>143</td>\n",
       "      <td>285</td>\n",
       "      <td>0</td>\n",
       "      <td>0</td>\n",
       "      <td>1</td>\n",
       "      <td>1</td>\n",
       "    </tr>\n",
       "  </tbody>\n",
       "</table>\n",
       "</div>"
      ],
      "text/plain": [
       "       Fecha                  Operador  Presion Aire (PSI)  \\\n",
       "0 2018-01-01  Cesar Contreras Martinez                 298   \n",
       "1 2018-01-01   Claudio Perez Rodriguez                 310   \n",
       "2 2018-01-02        Marco Adrian Gomez                 313   \n",
       "3 2018-01-02       Omar Balderas Perez                 292   \n",
       "4 2018-01-03   Gerardo Romero Alvarado                 304   \n",
       "\n",
       "   Presion Neumatica (PSI)  Corriente (Ampers)  \\\n",
       "0                      315                 153   \n",
       "1                      316                 148   \n",
       "2                      290                 163   \n",
       "3                      303                 189   \n",
       "4                      286                 174   \n",
       "\n",
       "   Presion Cilindro Longitudinal (PSI)  Presion Cilindro Transversal (PSI)  \\\n",
       "0                                  139                                 302   \n",
       "1                                  155                                 286   \n",
       "2                                  168                                 291   \n",
       "3                                  156                                 312   \n",
       "4                                  143                                 285   \n",
       "\n",
       "   Fallo Linea  Fallo Electrico  Fallo Suministro  Mantenimiento Correctivo  \n",
       "0            0                0                 0                         0  \n",
       "1            0                0                 0                         0  \n",
       "2            0                0                 0                         0  \n",
       "3            0                0                 0                         0  \n",
       "4            0                0                 1                         1  "
      ]
     },
     "execution_count": 3,
     "metadata": {},
     "output_type": "execute_result"
    }
   ],
   "source": [
    "datasets = pd.read_excel ('mttoMetalitec-v2.xlsx')   #Se carga mediante pandas el dataset\n",
    "datasets.head()                                      #Se muestran las primeras lineas del dataset"
   ]
  },
  {
   "cell_type": "code",
   "execution_count": 4,
   "id": "4873a2bb",
   "metadata": {},
   "outputs": [],
   "source": [
    "# Creación de los valores X,Y\n",
    "X = datasets.iloc[:, [2,3,4,5,6]].values\n",
    "y = datasets.iloc[:, 10].values"
   ]
  },
  {
   "cell_type": "markdown",
   "id": "675cac28",
   "metadata": {},
   "source": [
    "### Grid search"
   ]
  },
  {
   "cell_type": "code",
   "execution_count": 5,
   "id": "bcda320b",
   "metadata": {},
   "outputs": [],
   "source": [
    "gridsearchlist=[] #lista para guardar resultados del gridsearch"
   ]
  },
  {
   "cell_type": "code",
   "execution_count": 6,
   "id": "945c9841",
   "metadata": {},
   "outputs": [
    {
     "name": "stdout",
     "output_type": "stream",
     "text": [
      "SVC 1 {'C': 10.0, 'gamma': 'scale', 'kernel': 'rbf'}\n"
     ]
    }
   ],
   "source": [
    "# Grid search para SVC\n",
    "param_grid = {'kernel': ['linear','sigmoid', 'rbf'],\n",
    "              'C': [1.0,10.0],\n",
    "              'gamma': ['scale','auto']}\n",
    "\n",
    "base_clf=SVC()\n",
    "\n",
    "grid_search=GridSearchCV(base_clf, param_grid, cv=5)\n",
    "grid_search.fit(X,y)\n",
    "for rank, params in zip(grid_search.cv_results_['rank_test_score'], grid_search.cv_results_['params']):\n",
    "    if rank==1:\n",
    "        print(\"SVC\", rank, params)\n",
    "        gridsearchlist.append([\"SVC\", rank, params])\n",
    "    else:\n",
    "        continue"
   ]
  },
  {
   "cell_type": "code",
   "execution_count": 7,
   "id": "d9802a73",
   "metadata": {},
   "outputs": [
    {
     "name": "stdout",
     "output_type": "stream",
     "text": [
      "RF 1 {'criterion': 'gini', 'max_depth': 10, 'max_features': 'sqrt'}\n"
     ]
    }
   ],
   "source": [
    "# Grid search para RFC\n",
    "param_grid = {'criterion' : ['gini', 'entropy', 'log_loss'],\n",
    "              'max_depth': [5, 10],\n",
    "              'max_features' : ['sqrt','log2']}\n",
    "\n",
    "base_clf=RandomForestClassifier()\n",
    "\n",
    "grid_search=GridSearchCV(base_clf, param_grid, cv=5)\n",
    "grid_search.fit(X,y)\n",
    "for rank, params in zip(grid_search.cv_results_['rank_test_score'], grid_search.cv_results_['params']):\n",
    "    if rank==1:\n",
    "        print(\"RF\", rank, params)\n",
    "        gridsearchlist.append([\"RF\", rank, params])\n",
    "    else:\n",
    "        continue"
   ]
  },
  {
   "cell_type": "code",
   "execution_count": 8,
   "id": "b0997f33",
   "metadata": {},
   "outputs": [
    {
     "name": "stdout",
     "output_type": "stream",
     "text": [
      "LR 1 {'multi_class': 'multinomial', 'penalty': 'l2', 'solver': 'lbfgs'}\n"
     ]
    }
   ],
   "source": [
    "# Grid search para LR\n",
    "param_grid = {'penalty': ['l1','l2','elasticnet'],\n",
    "              'solver' : ['lbfgs', 'liblinear', 'sag'],\n",
    "              'multi_class': ['auto', 'ovr', 'multinomial']}\n",
    "\n",
    "base_clf=LogisticRegression()\n",
    "\n",
    "grid_search=GridSearchCV(base_clf, param_grid, cv=5)\n",
    "grid_search.fit(X,y)\n",
    "for rank, params in zip(grid_search.cv_results_['rank_test_score'], grid_search.cv_results_['params']):\n",
    "    if rank==1:\n",
    "        print(\"LR\", rank, params)\n",
    "        gridsearchlist.append([\"LR\", rank, params])\n",
    "    else:\n",
    "        continue"
   ]
  },
  {
   "cell_type": "code",
   "execution_count": 10,
   "id": "76de85bf",
   "metadata": {},
   "outputs": [
    {
     "data": {
      "text/plain": [
       "[['SVC', 1, {'C': 10.0, 'gamma': 'scale', 'kernel': 'rbf'}],\n",
       " ['RF', 1, {'criterion': 'gini', 'max_depth': 10, 'max_features': 'sqrt'}],\n",
       " ['LR', 1, {'multi_class': 'multinomial', 'penalty': 'l2', 'solver': 'lbfgs'}]]"
      ]
     },
     "execution_count": 10,
     "metadata": {},
     "output_type": "execute_result"
    }
   ],
   "source": [
    "#Se imprime la lista con los mejores hiperparametros\n",
    "gridsearchlist"
   ]
  },
  {
   "cell_type": "markdown",
   "id": "cd59f82f",
   "metadata": {},
   "source": [
    "### Selección de datos basada en proporción"
   ]
  },
  {
   "cell_type": "code",
   "execution_count": 11,
   "id": "6d7e206e",
   "metadata": {},
   "outputs": [],
   "source": [
    "# Seleccionar el algoritmo para clasificar\n",
    "\n",
    "classifier1=SVC(C=10.0, gamma= 'scale', kernel= 'rbf')\n",
    "classifier2=RandomForestClassifier(criterion= 'gini', max_depth=10,  max_features= 'sqrt')\n",
    "classifier3=LogisticRegression(multi_class= 'multinomial',penalty='l2', solver= 'lbfgs')"
   ]
  },
  {
   "cell_type": "code",
   "execution_count": 12,
   "id": "dbccf1f2",
   "metadata": {},
   "outputs": [],
   "source": [
    "def repeticion (classifier):    \n",
    "    # Se normalizan los datos\n",
    "    from sklearn import preprocessing\n",
    "    from sklearn.metrics import accuracy_score\n",
    "    import numpy as np\n",
    "\n",
    "    # Se deben realizar repeticiones del algoritmo para observar la variabilidad del algoritmo con los datos\n",
    "    from sklearn.model_selection import train_test_split\n",
    "    N_REPETITIONS=50\n",
    "\n",
    "    # lista para guardar el accuracy\n",
    "    acc=[]\n",
    "\n",
    "    for i in range(N_REPETITIONS):\n",
    "      # Seleccion del conjunto de datos estratificada\n",
    "      X_train, X_test, y_train, y_test = train_test_split(X, y, test_size=0.20, stratify=y)\n",
    "\n",
    "      # Se normalizan los datos\n",
    "      min_max_scaler = preprocessing.MinMaxScaler()\n",
    "      X_train = min_max_scaler.fit_transform(X_train)\n",
    "      X_test = min_max_scaler.transform(X_test)\n",
    "\n",
    "      # Se entrena el clasificador\n",
    "      classifier.fit(X_train, y_train)\n",
    "\n",
    "      # Se evalua el modelo\n",
    "      y_pred=classifier.predict(X_test)\n",
    "\n",
    "      # Se encuentra la precision (accuracy)\n",
    "      acc.append(accuracy_score(y_test, y_pred))\n",
    "\n",
    "    return (np.mean(np.array(acc)),np.std(np.array(acc)), y_test, y_pred)"
   ]
  },
  {
   "cell_type": "code",
   "execution_count": 13,
   "id": "317d795b",
   "metadata": {},
   "outputs": [],
   "source": [
    "#Se ejecutan las repeticiones para cada clasificador\n",
    "resultadoSVM=repeticion(classifier1)\n",
    "resultadoRF =repeticion(classifier2)\n",
    "resultadoLR =repeticion(classifier3)"
   ]
  },
  {
   "cell_type": "code",
   "execution_count": 15,
   "id": "9ee92459",
   "metadata": {},
   "outputs": [
    {
     "name": "stdout",
     "output_type": "stream",
     "text": [
      "Clasificador      Resultado      Desviacion estandar \n",
      "SVM:       0.9686774193548389 0.005762287238099126 \n",
      "RF:        0.9884516129032259 0.003915868620772522 \n",
      "LR:        0.894483870967742 0.005008733267904315\n"
     ]
    }
   ],
   "source": [
    "print(\"Clasificador      Resultado      Desviacion estandar\", \n",
    "      \"\\nSVM:      \",resultadoSVM[0], resultadoSVM[1],\n",
    "      \"\\nRF:       \",resultadoRF[0], resultadoRF[1],\n",
    "      \"\\nLR:       \",resultadoLR[0], resultadoLR[1])\n",
    "y_testSVM,y_predSVM = resultadoSVM[2],resultadoSVM[3]\n",
    "y_testRF, y_predRF  = resultadoRF[2],resultadoRF[3]\n",
    "y_testLR, y_predLR  = resultadoLR[2],resultadoLR[3]"
   ]
  },
  {
   "cell_type": "code",
   "execution_count": 16,
   "id": "2caaa846",
   "metadata": {},
   "outputs": [
    {
     "data": {
      "text/plain": [
       "[Text(0.5, 23.52222222222222, 'Actual'),\n",
       " Text(50.722222222222214, 0.5, 'Predicted'),\n",
       " Text(0.5, 1.0, 'Support Vector Machines')]"
      ]
     },
     "execution_count": 16,
     "metadata": {},
     "output_type": "execute_result"
    },
    {
     "data": {
      "image/png": "[encoded data removed]",
      "text/plain": [
       "<Figure size 640x480 with 2 Axes>"
      ]
     },
     "metadata": {},
     "output_type": "display_data"
    }
   ],
   "source": [
    "ax = sns.heatmap(confusion_matrix(y_testSVM, y_predSVM), cmap=\"Blues\", annot=True)\n",
    "ax.set(xlabel=\"Actual\",ylabel=\"Predicted\",title=\"Support Vector Machines\")"
   ]
  },
  {
   "cell_type": "code",
   "execution_count": 17,
   "id": "67448075",
   "metadata": {},
   "outputs": [
    {
     "data": {
      "text/plain": [
       "[Text(0.5, 23.52222222222222, 'Actual'),\n",
       " Text(50.722222222222214, 0.5, 'Predicted'),\n",
       " Text(0.5, 1.0, 'Random Forest')]"
      ]
     },
     "execution_count": 17,
     "metadata": {},
     "output_type": "execute_result"
    },
    {
     "data": {
      "image/png": "[encoded data removed]",
      "text/plain": [
       "<Figure size 640x480 with 2 Axes>"
      ]
     },
     "metadata": {},
     "output_type": "display_data"
    }
   ],
   "source": [
    "ax = sns.heatmap(confusion_matrix(y_testRF, y_predRF), cmap=\"Blues\", annot=True)\n",
    "ax.set(xlabel=\"Actual\",ylabel=\"Predicted\",title=\"Random Forest\")"
   ]
  },
  {
   "cell_type": "code",
   "execution_count": 18,
   "id": "c1d96363",
   "metadata": {},
   "outputs": [
    {
     "data": {
      "text/plain": [
       "[Text(0.5, 23.52222222222222, 'Actual'),\n",
       " Text(50.722222222222214, 0.5, 'Predicted'),\n",
       " Text(0.5, 1.0, 'Logistic Regression')]"
      ]
     },
     "execution_count": 18,
     "metadata": {},
     "output_type": "execute_result"
    },
    {
     "data": {
      "image/png": "[encoded data removed]",
      "text/plain": [
       "<Figure size 640x480 with 2 Axes>"
      ]
     },
     "metadata": {},
     "output_type": "display_data"
    }
   ],
   "source": [
    "ax = sns.heatmap(confusion_matrix(y_testLR, y_predLR), cmap=\"Blues\", annot=True)\n",
    "ax.set(xlabel=\"Actual\",ylabel=\"Predicted\",title=\"Logistic Regression\")"
   ]
  }
 ],
 "metadata": {
  "kernelspec": {
   "display_name": "Python 3 (ipykernel)",
   "language": "python",
   "name": "python3"
  },
  "language_info": {
   "codemirror_mode": {
    "name": "ipython",
    "version": 3
   },
   "file_extension": ".py",
   "mimetype": "text/x-python",
   "name": "python",
   "nbconvert_exporter": "python",
   "pygments_lexer": "ipython3",
   "version": "3.9.13"
  }
 },
 "nbformat": 4,
 "nbformat_minor": 5
}
