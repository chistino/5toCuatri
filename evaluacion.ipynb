{
 "cells": [
  {
   "cell_type": "code",
   "execution_count": 1,
   "id": "d4c4bdb9",
   "metadata": {},
   "outputs": [],
   "source": [
    "import pandas as pd                 #dataframe"
   ]
  },
  {
   "cell_type": "code",
   "execution_count": 2,
   "id": "ee0987a6",
   "metadata": {},
   "outputs": [
    {
     "data": {
      "text/html": [
       "<div>\n",
       "<style scoped>\n",
       "    .dataframe tbody tr th:only-of-type {\n",
       "        vertical-align: middle;\n",
       "    }\n",
       "\n",
       "    .dataframe tbody tr th {\n",
       "        vertical-align: top;\n",
       "    }\n",
       "\n",
       "    .dataframe thead th {\n",
       "        text-align: right;\n",
       "    }\n",
       "</style>\n",
       "<table border=\"1\" class=\"dataframe\">\n",
       "  <thead>\n",
       "    <tr style=\"text-align: right;\">\n",
       "      <th></th>\n",
       "      <th>Fecha</th>\n",
       "      <th>Presion Aire (PSI)</th>\n",
       "      <th>Presion Neumatica (PSI)</th>\n",
       "      <th>Corriente (Ampers)</th>\n",
       "      <th>Presion Cilindro Longitudinal (PSI)</th>\n",
       "      <th>Presion Cilindro Transversal (PSI)</th>\n",
       "      <th>Mantenimiento Correctivo</th>\n",
       "    </tr>\n",
       "  </thead>\n",
       "  <tbody>\n",
       "    <tr>\n",
       "      <th>0</th>\n",
       "      <td>2022-10-01</td>\n",
       "      <td>293</td>\n",
       "      <td>302</td>\n",
       "      <td>169</td>\n",
       "      <td>167</td>\n",
       "      <td>311</td>\n",
       "      <td>0</td>\n",
       "    </tr>\n",
       "    <tr>\n",
       "      <th>1</th>\n",
       "      <td>2022-09-30</td>\n",
       "      <td>309</td>\n",
       "      <td>313</td>\n",
       "      <td>161</td>\n",
       "      <td>166</td>\n",
       "      <td>304</td>\n",
       "      <td>0</td>\n",
       "    </tr>\n",
       "    <tr>\n",
       "      <th>2</th>\n",
       "      <td>2022-09-29</td>\n",
       "      <td>291</td>\n",
       "      <td>302</td>\n",
       "      <td>152</td>\n",
       "      <td>177</td>\n",
       "      <td>308</td>\n",
       "      <td>0</td>\n",
       "    </tr>\n",
       "    <tr>\n",
       "      <th>3</th>\n",
       "      <td>2022-09-28</td>\n",
       "      <td>316</td>\n",
       "      <td>294</td>\n",
       "      <td>173</td>\n",
       "      <td>153</td>\n",
       "      <td>290</td>\n",
       "      <td>0</td>\n",
       "    </tr>\n",
       "    <tr>\n",
       "      <th>4</th>\n",
       "      <td>2022-09-27</td>\n",
       "      <td>295</td>\n",
       "      <td>291</td>\n",
       "      <td>167</td>\n",
       "      <td>153</td>\n",
       "      <td>296</td>\n",
       "      <td>0</td>\n",
       "    </tr>\n",
       "  </tbody>\n",
       "</table>\n",
       "</div>"
      ],
      "text/plain": [
       "       Fecha  Presion Aire (PSI)  Presion Neumatica (PSI)  Corriente (Ampers)  \\\n",
       "0 2022-10-01                 293                      302                 169   \n",
       "1 2022-09-30                 309                      313                 161   \n",
       "2 2022-09-29                 291                      302                 152   \n",
       "3 2022-09-28                 316                      294                 173   \n",
       "4 2022-09-27                 295                      291                 167   \n",
       "\n",
       "   Presion Cilindro Longitudinal (PSI)  Presion Cilindro Transversal (PSI)  \\\n",
       "0                                  167                                 311   \n",
       "1                                  166                                 304   \n",
       "2                                  177                                 308   \n",
       "3                                  153                                 290   \n",
       "4                                  153                                 296   \n",
       "\n",
       "   Mantenimiento Correctivo  \n",
       "0                         0  \n",
       "1                         0  \n",
       "2                         0  \n",
       "3                         0  \n",
       "4                         0  "
      ]
     },
     "execution_count": 2,
     "metadata": {},
     "output_type": "execute_result"
    }
   ],
   "source": [
    "# Se carga el conjunto de datos\n",
    "datasets = pd.read_excel ('mttoMetalitec.xlsx')\n",
    "datasets.head()"
   ]
  },
  {
   "cell_type": "code",
   "execution_count": 3,
   "id": "4873a2bb",
   "metadata": {},
   "outputs": [],
   "source": [
    "# Creación de los valores X,Y\n",
    "X = datasets.iloc[:, [1,2,3,4,5]].values\n",
    "y = datasets.iloc[:, 6].values"
   ]
  },
  {
   "cell_type": "code",
   "execution_count": 4,
   "id": "6d7e206e",
   "metadata": {},
   "outputs": [],
   "source": [
    "# Seleccionar el algoritmo para clasificar\n",
    "from sklearn.svm import SVC\n",
    "from sklearn.ensemble import RandomForestClassifier\n",
    "from sklearn.linear_model import LogisticRegression\n",
    "from sklearn.tree import DecisionTreeClassifier\n",
    "from sklearn.neighbors import KNeighborsClassifier\n",
    "\n",
    "#classifier=SVC(kernel='poly', degree=4)\n",
    "#classifier=RandomForestClassifier(n_estimators=100)\n",
    "#classifier=LogisticRegression()\n",
    "#classifier=DecisionTreeClassifier(max_depth=6)\n",
    "classifier=KNeighborsClassifier(n_neighbors=5)\n",
    "     "
   ]
  },
  {
   "cell_type": "code",
   "execution_count": 5,
   "id": "dbccf1f2",
   "metadata": {},
   "outputs": [
    {
     "name": "stdout",
     "output_type": "stream",
     "text": [
      "0.9679538904899136 +/- 0.008365096279666518\n"
     ]
    }
   ],
   "source": [
    "# Se normalizan los datos\n",
    "from sklearn import preprocessing\n",
    "from sklearn.metrics import accuracy_score\n",
    "import numpy as np\n",
    "\n",
    "# Se deben realizar repeticiones del algoritmo para observar la variabilidad del\n",
    "# algoritmo con los datos\n",
    "from sklearn.model_selection import train_test_split\n",
    "N_REPETITIONS=50\n",
    "\n",
    "# lista para guardar el accuracy\n",
    "acc=[]\n",
    "\n",
    "for i in range(N_REPETITIONS):\n",
    "  # Seleccion del conjunto de datos estratificada\n",
    "  X_train, X_test, y_train, y_test = train_test_split(X, y, test_size=0.20, stratify=y)\n",
    "\n",
    "  # Se normalizan los datos\n",
    "  min_max_scaler = preprocessing.MinMaxScaler()\n",
    "  X_train = min_max_scaler.fit_transform(X_train)\n",
    "  X_test = min_max_scaler.transform(X_test)\n",
    "\n",
    "  # Se entrena el clasificador\n",
    "  classifier.fit(X_train, y_train)\n",
    "\n",
    "  # Se evalua el modelo\n",
    "  y_pred=classifier.predict(X_test)\n",
    "\n",
    "  # Se encuentra la precision (accuracy)\n",
    "  acc.append(accuracy_score(y_test, y_pred))\n",
    "\n",
    "print(np.mean(np.array(acc)),'+/-',np.std(np.array(acc)))"
   ]
  },
  {
   "cell_type": "code",
   "execution_count": 6,
   "id": "7a33e8d6",
   "metadata": {},
   "outputs": [],
   "source": [
    "from sklearn.model_selection import cross_val_score\n",
    "# Se crea el clasificador\n",
    "\n",
    "\n",
    "# Se normalizan los datos\n",
    "min_max_scaler = preprocessing.MinMaxScaler()\n",
    "X_new = min_max_scaler.fit_transform(X)\n"
   ]
  },
  {
   "cell_type": "code",
   "execution_count": 7,
   "id": "ebb008b0",
   "metadata": {},
   "outputs": [
    {
     "name": "stdout",
     "output_type": "stream",
     "text": [
      "0.970025247491861 +/- 0.010579626286338737\n"
     ]
    }
   ],
   "source": [
    "#clf = SVC(kernel='poly', degree=4)\n",
    "#clf=RandomForestClassifier(n_estimators=100)\n",
    "#clf=LogisticRegression()\n",
    "#clf=DecisionTreeClassifier(max_depth=6)\n",
    "clf=KNeighborsClassifier(n_neighbors=5)\n",
    "\n",
    "# Se evalua con validación cruzada\n",
    "scores = cross_val_score(clf, X_new, y, cv=10)\n",
    "# Se reporta media +/- desviacion estandar\n",
    "print(np.mean(np.array(scores)),'+/-', np.std(np.array(scores)))"
   ]
  },
  {
   "cell_type": "code",
   "execution_count": null,
   "id": "b0c75896",
   "metadata": {},
   "outputs": [],
   "source": []
  }
 ],
 "metadata": {
  "kernelspec": {
   "display_name": "Python 3 (ipykernel)",
   "language": "python",
   "name": "python3"
  },
  "language_info": {
   "codemirror_mode": {
    "name": "ipython",
    "version": 3
   },
   "file_extension": ".py",
   "mimetype": "text/x-python",
   "name": "python",
   "nbconvert_exporter": "python",
   "pygments_lexer": "ipython3",
   "version": "3.9.13"
  }
 },
 "nbformat": 4,
 "nbformat_minor": 5
}
